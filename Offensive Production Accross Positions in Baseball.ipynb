{
 "cells": [
  {
   "cell_type": "markdown",
   "id": "b3ea00ef",
   "metadata": {},
   "source": [
    "# DAV 5400\n",
    "\n",
    "# Project 1: Exploratory Data Analysis Using Matplotlib & Seaborn\n",
    "\n",
    "\n",
    "# Jordan Armstrong\n",
    "# Yitzhar Shalom\n",
    "# Mark Kaplan"
   ]
  },
  {
   "cell_type": "markdown",
   "id": "4ceacb7e",
   "metadata": {},
   "source": [
    "## Introduction\n",
    "We have chosen to work with Major League Baseball player data from the 2021 season. We plan to evaluate how different different defensive positions compare with respect to their offensive contribution. These types of studies are crucial as teams want to maximize the production out of their players, and need to know the production of their particular players versus the rest of the league."
   ]
  },
  {
   "cell_type": "markdown",
   "id": "a7751418",
   "metadata": {},
   "source": [
    "## Data Summary\n",
    "The majority of players in baseball (excluding the Designated Hitter (DH) and Pitcher (P) in the American League) play both sides of the game, offense and defense. As certain defensive positions are significantly harder to play well (notably Shortstop (SS), Catcher (C), and (CF)) teams are willing to sacrifice a certain amount of offensive production in return for defensive production. Conversly, players with easier defensive positions (corner outfielders (RF and LF, right field and left field respectively) and first basemen (1B)) are expected to provie above average offensive production. See the following articles for more information:\n",
    "https://blogs.fangraphs.com/the-issue-of-positional-inequality/\n",
    "https://blogs.fangraphs.com/position-adjustments/\n",
    "\n",
    "The data we are going to be exploring is from the 2021 MLB season, across both leagues. We have obtained it from the FanGraphs splits leaderboards. (https://www.fangraphs.com/leaders/splits-leaderboards?splitArr=&splitArrPitch=&position=B&autoPt=true&splitTeams=false&statType=player&statgroup=1&startDate=2021-03-01&endDate=2021-11-01&players=&filter=&groupBy=season&sort=-1,1)\n",
    "\n",
    "We have limited the data to players with 400 plate appearances as that is the minimum amount at which players are considered every-day players (starters) and also at which many stats start to stablize across a season. (See: https://library.fangraphs.com/principles/sample-size/) This accounts for 123 individual players.\n",
    "\n",
    "The statistics we plan to explore are three basic and important offensive measures. Stolen bases (SB), which are typically associated with speedy, defensive minded players (SS and CF); Homeruns (HR), which are typically associated with powerful offensive positions (1B, RF, and LF), and wrc+ (weighted runs created plus) which is an overall offensive summary statistic. (See here: https://library.fangraphs.com/offense/wrc/).\n",
    "\n",
    "SB and HR are both integers, and wrc+ is a float. The categorical data are the positions of each player. Eight in total, in addition to the ones mentioned above: 2B and 3B representing second basemen and third basemen respectively; we are ignoring Pitchers and Designated Hitters as DH's are only present in one league and therefore Pitchers only hit in one league)."
   ]
  },
  {
   "cell_type": "markdown",
   "id": "21c18630",
   "metadata": {},
   "source": [
    "## Exploratory Data Analysis"
   ]
  },
  {
   "cell_type": "markdown",
   "id": "edcae1b9",
   "metadata": {},
   "source": [
    "%matplotlib notebook"
   ]
  },
  {
   "cell_type": "code",
   "execution_count": 2,
   "id": "d7636455",
   "metadata": {},
   "outputs": [
    {
     "name": "stdout",
     "output_type": "stream",
     "text": [
      "     HR  SB        wRC+ Position\n",
      "0    16   2   88.002519       1B\n",
      "1    22   6  112.114073       1B\n",
      "2    12   5  106.362629       1B\n",
      "3    35   1  140.853526       1B\n",
      "4    31   8  135.151792       1B\n",
      "..   ..  ..         ...      ...\n",
      "117  29   1  116.384826       RF\n",
      "118  30   4  161.907222       RF\n",
      "119  13   1  104.617200       RF\n",
      "120  27  12  139.961471       RF\n",
      "121  28   9  164.951190       RF\n",
      "\n",
      "[122 rows x 4 columns]\n"
     ]
    }
   ],
   "source": [
    "#relevant libraries are imported\n",
    "import matplotlib.pyplot as plt\n",
    "import seaborn as sns\n",
    "import numpy as np\n",
    "import pandas as pd\n",
    "\n",
    "data = pd.read_csv('/Users/kaplan/Downloads/leaderboards.csv')\n",
    "print(data)"
   ]
  },
  {
   "cell_type": "markdown",
   "id": "e2cbee7e",
   "metadata": {},
   "source": [
    "In order to confirm that there are no missing entries, the \"isnull\" operator is utilized. "
   ]
  },
  {
   "cell_type": "code",
   "execution_count": 3,
   "id": "14484307",
   "metadata": {},
   "outputs": [
    {
     "name": "stdout",
     "output_type": "stream",
     "text": [
      "False\n"
     ]
    }
   ],
   "source": [
    "print(data.isnull().values.any())"
   ]
  },
  {
   "cell_type": "markdown",
   "id": "a7a29218",
   "metadata": {},
   "source": [
    "Next, we extract each parameter on its own to be graphically analyzed. "
   ]
  },
  {
   "cell_type": "code",
   "execution_count": 27,
   "id": "3ea041b7",
   "metadata": {},
   "outputs": [],
   "source": [
    "#renaming each variable to be analyzed\n",
    "home_runs = data[\"HR\"]\n",
    "stolen_bases = data[\"SB\"]\n",
    "wRCplus = data[\"wRC+\"]\n",
    "position = data[\"Position\"]"
   ]
  },
  {
   "cell_type": "markdown",
   "id": "de2eec09",
   "metadata": {},
   "source": [
    "We provide the basic summary statistics accross the data."
   ]
  },
  {
   "cell_type": "code",
   "execution_count": 10,
   "id": "01c064a6",
   "metadata": {},
   "outputs": [
    {
     "data": {
      "text/html": [
       "<div>\n",
       "<style scoped>\n",
       "    .dataframe tbody tr th:only-of-type {\n",
       "        vertical-align: middle;\n",
       "    }\n",
       "\n",
       "    .dataframe tbody tr th {\n",
       "        vertical-align: top;\n",
       "    }\n",
       "\n",
       "    .dataframe thead th {\n",
       "        text-align: right;\n",
       "    }\n",
       "</style>\n",
       "<table border=\"1\" class=\"dataframe\">\n",
       "  <thead>\n",
       "    <tr style=\"text-align: right;\">\n",
       "      <th></th>\n",
       "      <th>HR</th>\n",
       "      <th>SB</th>\n",
       "      <th>wRC+</th>\n",
       "    </tr>\n",
       "  </thead>\n",
       "  <tbody>\n",
       "    <tr>\n",
       "      <th>count</th>\n",
       "      <td>122.000000</td>\n",
       "      <td>122.000000</td>\n",
       "      <td>122.000000</td>\n",
       "    </tr>\n",
       "    <tr>\n",
       "      <th>mean</th>\n",
       "      <td>19.680328</td>\n",
       "      <td>7.524590</td>\n",
       "      <td>113.345739</td>\n",
       "    </tr>\n",
       "    <tr>\n",
       "      <th>std</th>\n",
       "      <td>9.725375</td>\n",
       "      <td>8.134421</td>\n",
       "      <td>24.065315</td>\n",
       "    </tr>\n",
       "    <tr>\n",
       "      <th>min</th>\n",
       "      <td>2.000000</td>\n",
       "      <td>0.000000</td>\n",
       "      <td>56.825177</td>\n",
       "    </tr>\n",
       "    <tr>\n",
       "      <th>25%</th>\n",
       "      <td>12.000000</td>\n",
       "      <td>2.000000</td>\n",
       "      <td>99.077850</td>\n",
       "    </tr>\n",
       "    <tr>\n",
       "      <th>50%</th>\n",
       "      <td>18.000000</td>\n",
       "      <td>5.000000</td>\n",
       "      <td>110.747197</td>\n",
       "    </tr>\n",
       "    <tr>\n",
       "      <th>75%</th>\n",
       "      <td>27.000000</td>\n",
       "      <td>12.000000</td>\n",
       "      <td>131.115079</td>\n",
       "    </tr>\n",
       "    <tr>\n",
       "      <th>max</th>\n",
       "      <td>41.000000</td>\n",
       "      <td>47.000000</td>\n",
       "      <td>170.306253</td>\n",
       "    </tr>\n",
       "  </tbody>\n",
       "</table>\n",
       "</div>"
      ],
      "text/plain": [
       "               HR          SB        wRC+\n",
       "count  122.000000  122.000000  122.000000\n",
       "mean    19.680328    7.524590  113.345739\n",
       "std      9.725375    8.134421   24.065315\n",
       "min      2.000000    0.000000   56.825177\n",
       "25%     12.000000    2.000000   99.077850\n",
       "50%     18.000000    5.000000  110.747197\n",
       "75%     27.000000   12.000000  131.115079\n",
       "max     41.000000   47.000000  170.306253"
      ]
     },
     "execution_count": 10,
     "metadata": {},
     "output_type": "execute_result"
    }
   ],
   "source": [
    "data[[\"HR\", \"SB\", \"wRC+\"]].describe()\n"
   ]
  },
  {
   "cell_type": "markdown",
   "id": "6a931e14",
   "metadata": {},
   "source": [
    "Note: the average wrc+ is 100. The higher the number the better the offensive production. Since we are analyzing starting players who take up the majority of PAs, their average wrc+ will be higher than the average player.\n",
    "\n",
    "Now we will create histograms and box plots for each stat across all positions in order to analyze the distribution of \n",
    "the data. "
   ]
  },
  {
   "cell_type": "code",
   "execution_count": 14,
   "id": "78607edd",
   "metadata": {},
   "outputs": [
    {
     "data": {
      "image/png": "[encoded data removed]",
      "text/plain": [
       "<Figure size 432x288 with 1 Axes>"
      ]
     },
     "metadata": {
      "needs_background": "light"
     },
     "output_type": "display_data"
    }
   ],
   "source": [
    "mean_length=data['HR'].mean()\n",
    "plot_length = plt.hist(data['HR'])\n",
    "plt.title('Homerun Distribution')\n",
    "plt.xlabel('HRs')\n",
    "plt.ylabel('Count')\n",
    "\n",
    "plt.axvline(mean_length, color='k', linestyle='dashed', linewidth=2); # average"
   ]
  },
  {
   "cell_type": "code",
   "execution_count": 35,
   "id": "cd158648",
   "metadata": {},
   "outputs": [
    {
     "data": {
      "text/plain": [
       "<matplotlib.lines.Line2D at 0x124961f40>"
      ]
     },
     "execution_count": 35,
     "metadata": {},
     "output_type": "execute_result"
    },
    {
     "data": {
      "image/png": "[encoded data removed]",
      "text/plain": [
       "<Figure size 432x288 with 1 Axes>"
      ]
     },
     "metadata": {
      "needs_background": "light"
     },
     "output_type": "display_data"
    }
   ],
   "source": [
    "sns.histplot(x=data['HR']).set_title(\"Homerun Distribution\")\n",
    "plt.axvline(x=data.HR.mean(), color='red')"
   ]
  },
  {
   "cell_type": "markdown",
   "id": "d466bc2f",
   "metadata": {},
   "source": [
    "The stark contrast around the average may be explained by the polarization of defensive vs offensive players."
   ]
  },
  {
   "cell_type": "code",
   "execution_count": 37,
   "id": "293a85b3",
   "metadata": {},
   "outputs": [
    {
     "data": {
      "image/png": "[encoded data removed]",
      "text/plain": [
       "<Figure size 432x288 with 1 Axes>"
      ]
     },
     "metadata": {
      "needs_background": "light"
     },
     "output_type": "display_data"
    }
   ],
   "source": [
    "mean_length=data['SB'].mean()\n",
    "plot_length = plt.hist(data['SB'])\n",
    "plt.title('SB Distribution')\n",
    "plt.xlabel('SB')\n",
    "plt.ylabel('Count')\n",
    "plt.axvline(mean_length, color='k', linestyle='dashed', linewidth=2); # average"
   ]
  },
  {
   "cell_type": "code",
   "execution_count": 38,
   "id": "51372b0b",
   "metadata": {},
   "outputs": [
    {
     "data": {
      "text/plain": [
       "<matplotlib.lines.Line2D at 0x124c6c6d0>"
      ]
     },
     "execution_count": 38,
     "metadata": {},
     "output_type": "execute_result"
    },
    {
     "data": {
      "image/png": "[encoded data removed]",
      "text/plain": [
       "<Figure size 432x288 with 1 Axes>"
      ]
     },
     "metadata": {
      "needs_background": "light"
     },
     "output_type": "display_data"
    }
   ],
   "source": [
    "sns.histplot(x=data['SB']).set_title(\"SB Distribution\")\n",
    "plt.axvline(x=data.SB.mean(), color='red')"
   ]
  },
  {
   "cell_type": "markdown",
   "id": "12ae122a",
   "metadata": {},
   "source": [
    "The SB distribution makes sense, as there are very few players who are fast enough to steal bases at a high enough percentage. "
   ]
  },
  {
   "cell_type": "code",
   "execution_count": 39,
   "id": "322465ae",
   "metadata": {},
   "outputs": [
    {
     "data": {
      "image/png": "[encoded data removed]",
      "text/plain": [
       "<Figure size 432x288 with 1 Axes>"
      ]
     },
     "metadata": {
      "needs_background": "light"
     },
     "output_type": "display_data"
    }
   ],
   "source": [
    "mean_length=data['wRC+'].mean()\n",
    "plot_length = plt.hist(data['wRC+'])\n",
    "plt.title('wRC+ Distribution')\n",
    "plt.xlabel('wRC+')\n",
    "plt.ylabel('Count')\n",
    "plt.axvline(mean_length, color='k', linestyle='dashed', linewidth=2); # average"
   ]
  },
  {
   "cell_type": "code",
   "execution_count": 42,
   "id": "cb01405c",
   "metadata": {},
   "outputs": [
    {
     "data": {
      "text/plain": [
       "<matplotlib.lines.Line2D at 0x124648220>"
      ]
     },
     "execution_count": 42,
     "metadata": {},
     "output_type": "execute_result"
    },
    {
     "data": {
      "image/png": "[encoded data removed]",
      "text/plain": [
       "<Figure size 432x288 with 1 Axes>"
      ]
     },
     "metadata": {
      "needs_background": "light"
     },
     "output_type": "display_data"
    }
   ],
   "source": [
    "sns.histplot(x=data['wRC+']).set_title(\"wRC+ Distribution\")\n",
    "plt.axvline(x=wRCplus.mean(), color='red')"
   ]
  },
  {
   "cell_type": "markdown",
   "id": "e378f313",
   "metadata": {},
   "source": [
    "As noted above, with wRC+ being an overall offensive statistic, the distribution is close to normal, with many players being average (100); the average of starters being above 100, and a normal distribution."
   ]
  },
  {
   "cell_type": "markdown",
   "id": "7f057e26",
   "metadata": {},
   "source": [
    "In order to get a different perspective of the distribution of the parameters across the entire population of players, boxplots are generated. The range, median, and variance of the parameters are visible. "
   ]
  },
  {
   "cell_type": "code",
   "execution_count": 43,
   "id": "b35c6586",
   "metadata": {},
   "outputs": [
    {
     "data": {
      "text/plain": [
       "Text(0.5, 0, ' ')"
      ]
     },
     "execution_count": 43,
     "metadata": {},
     "output_type": "execute_result"
    },
    {
     "data": {
      "image/png": "[encoded data removed]",
      "text/plain": [
       "<Figure size 432x288 with 3 Axes>"
      ]
     },
     "metadata": {
      "needs_background": "light"
     },
     "output_type": "display_data"
    }
   ],
   "source": [
    "#creating subplot to generate side-by-side boxplots of stats across all positions\n",
    "\n",
    "#define plotting space\n",
    "plt.figure(1)\n",
    "\n",
    "#left plot = home runs\n",
    "#define data, title, blank x axis label \n",
    "plt.subplot(131)\n",
    "plt.boxplot(data['HR'])\n",
    "plt.title('Home Runs')\n",
    "plt.xlabel(' ')\n",
    "\n",
    "#middle plot = stolen bases\n",
    "#define data, title, blank x axis label \n",
    "plt.subplot(132)\n",
    "plt.boxplot(data['SB'])\n",
    "plt.title('Stolen Bases')\n",
    "plt.xlabel(' ')\n",
    "\n",
    "#right plot = weighted runs created plus\n",
    "#define data, title, blank x axis label \n",
    "plt.subplot(133)\n",
    "plt.boxplot(data['wRC+'])\n",
    "plt.title('wRC+')\n",
    "plt.xlabel(' ')"
   ]
  },
  {
   "cell_type": "markdown",
   "id": "b1d424c2",
   "metadata": {},
   "source": [
    "Boxplots of each variable can also be generated using seaborn."
   ]
  },
  {
   "cell_type": "code",
   "execution_count": 44,
   "id": "19c09e0d",
   "metadata": {},
   "outputs": [
    {
     "data": {
      "text/plain": [
       "<AxesSubplot:xlabel='HR'>"
      ]
     },
     "execution_count": 44,
     "metadata": {},
     "output_type": "execute_result"
    },
    {
     "data": {
      "image/png": "[encoded data removed]",
      "text/plain": [
       "<Figure size 432x288 with 1 Axes>"
      ]
     },
     "metadata": {
      "needs_background": "light"
     },
     "output_type": "display_data"
    }
   ],
   "source": [
    "#boxplot of each variable accross all positions\n",
    "sns.boxplot(x=data['HR'])"
   ]
  },
  {
   "cell_type": "code",
   "execution_count": 45,
   "id": "19ab1ebd",
   "metadata": {},
   "outputs": [
    {
     "data": {
      "text/plain": [
       "<AxesSubplot:xlabel='SB'>"
      ]
     },
     "execution_count": 45,
     "metadata": {},
     "output_type": "execute_result"
    },
    {
     "data": {
      "image/png": "[encoded data removed]",
      "text/plain": [
       "<Figure size 432x288 with 1 Axes>"
      ]
     },
     "metadata": {
      "needs_background": "light"
     },
     "output_type": "display_data"
    }
   ],
   "source": [
    "sns.boxplot(x=data['SB'])"
   ]
  },
  {
   "cell_type": "code",
   "execution_count": 46,
   "id": "f5ce00ed",
   "metadata": {},
   "outputs": [
    {
     "data": {
      "text/plain": [
       "<AxesSubplot:xlabel='wRC+'>"
      ]
     },
     "execution_count": 46,
     "metadata": {},
     "output_type": "execute_result"
    },
    {
     "data": {
      "image/png": "[encoded data removed]",
      "text/plain": [
       "<Figure size 432x288 with 1 Axes>"
      ]
     },
     "metadata": {
      "needs_background": "light"
     },
     "output_type": "display_data"
    }
   ],
   "source": [
    "sns.boxplot(x=data['wRC+'])"
   ]
  },
  {
   "cell_type": "markdown",
   "id": "057421f0",
   "metadata": {},
   "source": [
    "Home runs per player range as far as 40 with a fair amount of variance and a symmetrical distribution. Stolen bases max at 25 per player excluding some outlier values, but with most of the values ranging on the lower end of the distribution. WRC+ displays symmetry and a wide variance, with values ranging from 60 to 170."
   ]
  },
  {
   "cell_type": "markdown",
   "id": "f6e11a4a",
   "metadata": {},
   "source": [
    "# Inference\n",
    "After analyzing the distribution of the data, we will now compare the offensive statistics across each position. We will be using barplots to visually assess the offensive production per position. Since this part was done by a different team member using different techniques and labels, the first code will just be his intro and data loading."
   ]
  },
  {
   "cell_type": "code",
   "execution_count": 47,
   "id": "fcec8386",
   "metadata": {},
   "outputs": [],
   "source": [
    "bb = \"https://raw.githubusercontent.com/jarmstro34/DAV-5400/main/leaderboards%20(3).csv\""
   ]
  },
  {
   "cell_type": "code",
   "execution_count": 48,
   "id": "67cd60ca",
   "metadata": {},
   "outputs": [],
   "source": [
    "stats = pd.read_csv(bb)"
   ]
  },
  {
   "cell_type": "markdown",
   "id": "ea46c9b3",
   "metadata": {},
   "source": [
    "To create the Matplotlib I need to create new variables for the averages of all the positions."
   ]
  },
  {
   "cell_type": "code",
   "execution_count": 49,
   "id": "88320ac1",
   "metadata": {},
   "outputs": [],
   "source": [
    "df = pd.DataFrame(stats)\n",
    "\n",
    "# I am trying to just pull out the positions from the DF, couldnt figure out how to do a \"where\" to do it in one. \n",
    "First = df.loc[df['Position'] == \"1B\"]\n",
    "Second = df.loc[df['Position'] == \"2B\"]\n",
    "Third = df.loc[df['Position'] == \"3B\"]\n",
    "C = df.loc[df['Position'] == \"C\"]\n",
    "SS = df.loc[df['Position'] == \"SS\"]\n",
    "LF = df.loc[df['Position'] == \"LF\"]\n",
    "CF = df.loc[df['Position'] == \"CF\"]\n",
    "RF = df.loc[df['Position'] == \"RF\"]\n",
    "\n",
    "First\n",
    "# Creating the means for all the positions. The problem that I am running into is that matplotlib only wants to plot\n",
    "#Them if they are part of the DF\n",
    "\n",
    "#Average HR\n",
    "First_HR = First[\"HR\"].mean()\n",
    "Second_HR = Second[\"HR\"].mean()\n",
    "Third_HR = Third[\"HR\"].mean()\n",
    "C_HR = C[\"HR\"].mean()\n",
    "SS_HR = SS[\"HR\"].mean()\n",
    "LF_HR = LF[\"HR\"].mean()\n",
    "CF_HR = CF[\"HR\"].mean()\n",
    "RF_HR = RF[\"HR\"].mean()\n",
    "\n",
    "#Average SB\n",
    "First_SB = First[\"SB\"].mean()\n",
    "Second_SB = Second[\"SB\"].mean()\n",
    "Third_SB = Third[\"SB\"].mean()\n",
    "C_SB = C[\"SB\"].mean()\n",
    "SS_SB = SS[\"SB\"].mean()\n",
    "LF_SB = LF[\"SB\"].mean()\n",
    "CF_SB = CF[\"SB\"].mean()\n",
    "RF_SB = RF[\"SB\"].mean()\n",
    "\n",
    "#Average wRC+\n",
    "First_wR = First[\"wRC+\"].mean()\n",
    "Second_wR = Second[\"wRC+\"].mean()\n",
    "Third_wR = Third[\"wRC+\"].mean()\n",
    "C_wR = C[\"wRC+\"].mean()\n",
    "SS_wR = SS[\"wRC+\"].mean()\n",
    "LF_wR = LF[\"wRC+\"].mean()\n",
    "CF_wR = CF[\"wRC+\"].mean()\n",
    "RF_wR = RF[\"wRC+\"].mean()\n",
    "\n",
    "averages = [First_SB, Second_SB, Third_SB, C_SB, SS_SB, LF_SB, CF_SB, RF_SB]"
   ]
  },
  {
   "cell_type": "markdown",
   "id": "512630b8",
   "metadata": {},
   "source": [
    "Stolen Bases Data"
   ]
  },
  {
   "cell_type": "code",
   "execution_count": 56,
   "id": "4900c6d7",
   "metadata": {},
   "outputs": [
    {
     "data": {
      "image/png": "[encoded data removed]",
      "text/plain": [
       "<Figure size 432x288 with 1 Axes>"
      ]
     },
     "metadata": {
      "needs_background": "light"
     },
     "output_type": "display_data"
    }
   ],
   "source": [
    "average_SB = [First_SB, Second_SB, Third_SB, C_SB, SS_SB, LF_SB, CF_SB, RF_SB]\n",
    "Positions = [\"First\", \"Second\", \"Third\", \"C\", \"SS\", \"LF\", \"CF\", \"RF\"]\n",
    "fig = plt.figure()\n",
    "ax = fig.add_axes([0,0,1,1])\n",
    "ax.bar(Positions, average_SB)\n",
    "plt.title('Stolen Bases per Position')\n",
    "plt.show()"
   ]
  },
  {
   "cell_type": "code",
   "execution_count": 57,
   "id": "455471c9",
   "metadata": {},
   "outputs": [
    {
     "data": {
      "text/plain": [
       "<AxesSubplot:xlabel='Position', ylabel='SB'>"
      ]
     },
     "execution_count": 57,
     "metadata": {},
     "output_type": "execute_result"
    },
    {
     "data": {
      "image/png": "[encoded data removed]",
      "text/plain": [
       "<Figure size 432x288 with 1 Axes>"
      ]
     },
     "metadata": {
      "needs_background": "light"
     },
     "output_type": "display_data"
    }
   ],
   "source": [
    "sns.barplot(x='Position', y='SB', data=stats, orient='v')"
   ]
  },
  {
   "cell_type": "markdown",
   "id": "95150d27",
   "metadata": {},
   "source": [
    "Something seems wrong with my ordering method, but the overall data makes sense, as first basemen and catchers, third basemen and right fielders are considered slower players, with 2B, SS, and CF considered faster players."
   ]
  },
  {
   "cell_type": "markdown",
   "id": "b9ffe0db",
   "metadata": {},
   "source": [
    "HR Data"
   ]
  },
  {
   "cell_type": "code",
   "execution_count": 60,
   "id": "9e301167",
   "metadata": {},
   "outputs": [
    {
     "data": {
      "image/png": "[encoded data removed]",
      "text/plain": [
       "<Figure size 432x288 with 1 Axes>"
      ]
     },
     "metadata": {
      "needs_background": "light"
     },
     "output_type": "display_data"
    }
   ],
   "source": [
    "average_HR = [First_HR, Second_HR, Third_HR, C_HR, SS_HR, LF_HR, CF_HR, RF_HR]\n",
    "Positions = [\"First\", \"Second\", \"Third\", \"C\", \"SS\", \"LF\", \"CF\", \"RF\"]\n",
    "fig = plt.figure()\n",
    "ax = fig.add_axes([0,0,1,1])\n",
    "ax.bar(Positions, average_HR)\n",
    "plt.title(\"HRs Per Position\")\n",
    "plt.show()"
   ]
  },
  {
   "cell_type": "code",
   "execution_count": 61,
   "id": "c0b1f69d",
   "metadata": {},
   "outputs": [
    {
     "data": {
      "text/plain": [
       "<AxesSubplot:xlabel='Position', ylabel='HR'>"
      ]
     },
     "execution_count": 61,
     "metadata": {},
     "output_type": "execute_result"
    },
    {
     "data": {
      "image/png": "[encoded data removed]",
      "text/plain": [
       "<Figure size 432x288 with 1 Axes>"
      ]
     },
     "metadata": {
      "needs_background": "light"
     },
     "output_type": "display_data"
    }
   ],
   "source": [
    "sns.barplot(x='Position', y='HR', data=stats, orient='v', order=plot_order)"
   ]
  },
  {
   "cell_type": "markdown",
   "id": "715af1ca",
   "metadata": {},
   "source": [
    "This data fits with the trend, as power hitting corner indfielders and outfielders, such as 1B, 3B, and RF contriburting more HR than defensive positions such as CF, SS, and C."
   ]
  },
  {
   "cell_type": "markdown",
   "id": "5666cb68",
   "metadata": {},
   "source": [
    "wRC+ data:"
   ]
  },
  {
   "cell_type": "code",
   "execution_count": 63,
   "id": "c7f6c29d",
   "metadata": {},
   "outputs": [
    {
     "data": {
      "image/png": "[encoded data removed]",
      "text/plain": [
       "<Figure size 432x288 with 1 Axes>"
      ]
     },
     "metadata": {
      "needs_background": "light"
     },
     "output_type": "display_data"
    }
   ],
   "source": [
    "average_wR = [First_wR, Second_wR, Third_wR, C_wR, SS_wR, LF_wR, CF_wR, RF_wR]\n",
    "Positions = [\"First\", \"Second\", \"Third\", \"C\", \"SS\", \"LF\", \"CF\", \"RF\"]\n",
    "fig = plt.figure()\n",
    "ax = fig.add_axes([0,0,1,1])\n",
    "ax.bar(Positions, average_wR)\n",
    "plt.title(\"wRC+ per position\")\n",
    "plt.show()"
   ]
  },
  {
   "cell_type": "code",
   "execution_count": 64,
   "id": "ae13ced0",
   "metadata": {},
   "outputs": [
    {
     "data": {
      "text/plain": [
       "<AxesSubplot:xlabel='Position', ylabel='wRC+'>"
      ]
     },
     "execution_count": 64,
     "metadata": {},
     "output_type": "execute_result"
    },
    {
     "data": {
      "image/png": "[encoded data removed]",
      "text/plain": [
       "<Figure size 432x288 with 1 Axes>"
      ]
     },
     "metadata": {
      "needs_background": "light"
     },
     "output_type": "display_data"
    }
   ],
   "source": [
    "sns.barplot(x='Position', y='wRC+', data=stats, orient='v')"
   ]
  },
  {
   "cell_type": "markdown",
   "id": "01266d92",
   "metadata": {},
   "source": [
    "This chart also follows, with C and SS having a lower wRC+ than 1B, RF and 3B."
   ]
  },
  {
   "cell_type": "markdown",
   "id": "f192acff",
   "metadata": {},
   "source": [
    "# Conclusion"
   ]
  },
  {
   "cell_type": "markdown",
   "id": "58936308",
   "metadata": {},
   "source": [
    "We have analyzed the data of offensive statistics per position, and the idea that defensive-minded positions are worse offensivley seems to hold for most of the data."
   ]
  },
  {
   "cell_type": "code",
   "execution_count": null,
   "id": "a98308ee",
   "metadata": {},
   "outputs": [],
   "source": []
  }
 ],
 "metadata": {
  "kernelspec": {
   "display_name": "Python 3 (ipykernel)",
   "language": "python",
   "name": "python3"
  },
  "language_info": {
   "codemirror_mode": {
    "name": "ipython",
    "version": 3
   },
   "file_extension": ".py",
   "mimetype": "text/x-python",
   "name": "python",
   "nbconvert_exporter": "python",
   "pygments_lexer": "ipython3",
   "version": "3.9.7"
  }
 },
 "nbformat": 4,
 "nbformat_minor": 5
}
